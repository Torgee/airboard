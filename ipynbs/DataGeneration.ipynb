{
 "metadata": {
  "name": ""
 },
 "nbformat": 3,
 "nbformat_minor": 0,
 "worksheets": [
  {
   "cells": [
    {
     "cell_type": "heading",
     "level": 1,
     "metadata": {},
     "source": [
      "Sample Data Generation"
     ]
    },
    {
     "cell_type": "markdown",
     "metadata": {},
     "source": [
      "This notebook is about generating data samples to test various parts of the program, especially visualization, but also interpretation/reaction to data(-streams).\n",
      "\n",
      "The purpose of this notebook is not so much to generate a data set (e.g. as a file), but more to elaborate 1) possible data in regards to sampling and noise variations, and 2) how to implement them. Thus it should be considered as a collection of examples for data generation, to be easily converted/added to a module."
     ]
    },
    {
     "cell_type": "code",
     "collapsed": false,
     "input": [
      "%pylab inline\n",
      "\n",
      "import random\n",
      "from functools import partial\n",
      "\n",
      "import numpy as np\n",
      "\n",
      "import matplotlib.pylab as plt\n",
      "\n",
      "timestamps = {}\n",
      "data = {}"
     ],
     "language": "python",
     "metadata": {},
     "outputs": [
      {
       "output_type": "stream",
       "stream": "stdout",
       "text": [
        "Populating the interactive namespace from numpy and matplotlib\n"
       ]
      }
     ],
     "prompt_number": 1
    },
    {
     "cell_type": "heading",
     "level": 2,
     "metadata": {},
     "source": [
      "Single Channel Data"
     ]
    },
    {
     "cell_type": "markdown",
     "metadata": {},
     "source": [
      "This is the most basic and simple form of data. It will contain of a single channel (i.e. only one value per timestamp). This kind of data can be used to test simple visualizations, such as a plot. More advanced interpretations, such as visualizing fits or derived quantities, may also be possible."
     ]
    },
    {
     "cell_type": "heading",
     "level": 3,
     "metadata": {},
     "source": [
      "The Time"
     ]
    },
    {
     "cell_type": "markdown",
     "metadata": {},
     "source": [
      "Timestamps will be coupled with every data entry. They'll (for now) start with 0, be in at least milliseconds precision (better in microseconds). The two variants will be either equidistant timestamps, or an irregular sampling interval."
     ]
    },
    {
     "cell_type": "heading",
     "level": 3,
     "metadata": {},
     "source": [
      "Raw Dobule"
     ]
    },
    {
     "cell_type": "heading",
     "level": 4,
     "metadata": {},
     "source": [
      "Periodic - Equidistant"
     ]
    },
    {
     "cell_type": "code",
     "collapsed": false,
     "input": [
      "# sampling parameter\n",
      "start = 0.0\n",
      "stop = 2.0\n",
      "sample_rate = 500. #Hz\n",
      "nsteps = (stop-start)*sample_rate\n",
      "\n",
      "# signal parameter\n",
      "freq = 1. #Hz for sin wave\n",
      "time_scale = (2.*math.pi)/freq\n",
      "\n",
      "timestamps['sin'] = np.linspace(start,stop,nsteps,endpoint=False)\n",
      "data['sin'] = np.sin(time_scale * timestamps['sin'])"
     ],
     "language": "python",
     "metadata": {},
     "outputs": [],
     "prompt_number": 2
    },
    {
     "cell_type": "code",
     "collapsed": false,
     "input": [
      "plt.plot(timestamps['sin'],data['sin']);"
     ],
     "language": "python",
     "metadata": {},
     "outputs": [
      {
       "metadata": {},
       "output_type": "display_data",
       "png": "[encoded data removed]",
       "text": [
        "<matplotlib.figure.Figure at 0x7f66f4a4bf50>"
       ]
      }
     ],
     "prompt_number": 3
    },
    {
     "cell_type": "code",
     "collapsed": false,
     "input": [
      "plt.plot(timestamps['sin'][:20],data['sin'][:20],'+');"
     ],
     "language": "python",
     "metadata": {},
     "outputs": [
      {
       "metadata": {},
       "output_type": "display_data",
       "png": "[encoded data removed]",
       "text": [
        "<matplotlib.figure.Figure at 0x7f66da8140d0>"
       ]
      }
     ],
     "prompt_number": 4
    },
    {
     "cell_type": "heading",
     "level": 4,
     "metadata": {},
     "source": [
      "Periodic - Irregular sampling"
     ]
    },
    {
     "cell_type": "markdown",
     "metadata": {},
     "source": [
      "Note here, that the applied approach is different from simply adding noise to a regular equidistant series of timestamps. For the current timestamp $t_i$, the distribution is a sum of all previous timestamps. Therefor the resulting in\n",
      "$$P(T_\\textrm{cumm}(t_i)) = \\mathcal{N} (i*\\mu ,i* \\sigma)$$\n",
      "where $T(t_i)$ is the random variable for a timestamp $t_i$, instead of just\n",
      "$$P(T_\\textrm{noise}(t_i)) = \\mathcal{N} (i*\\mu ,\\sigma)$$\n",
      "for the case of a standard noise.\n",
      "Still, this behaviour *should* more realistically represent a real sensor (-interface), that does drift and thus works like\n",
      "$$P(T(t_i)) == \\mathcal{N} (\\mu + t_\\textrm{i-1}, \\sigma)$$\n",
      "which will result in the distribution for $T_\\textrm{cumm}$"
     ]
    },
    {
     "cell_type": "code",
     "collapsed": false,
     "input": [
      "# sampling parameter\n",
      "start = 0.0\n",
      "stop = 2.00\n",
      "sample_rate = 500. #Hz - approximately\n",
      "meanstep = 1./sample_rate\n",
      "\n",
      "# derive/set distribution properties\n",
      "stddev_rel = 0.2 # 20% variation\n",
      "stddev_abs = meanstep * stddev_rel\n",
      "distrib = partial(np.random.normal,meanstep,stddev_abs)\n",
      "#dist = np.random.uniform\n",
      "print 'mean: ', meanstep\n",
      "print 'stddev (rel): ', stddev_rel\n",
      "print 'stddev (abs): ', stddev_abs"
     ],
     "language": "python",
     "metadata": {},
     "outputs": [
      {
       "output_type": "stream",
       "stream": "stdout",
       "text": [
        "mean:  0.002\n",
        "stddev (rel):  0.2\n",
        "stddev (abs):  0.0004\n"
       ]
      }
     ],
     "prompt_number": 5
    },
    {
     "cell_type": "code",
     "collapsed": false,
     "input": [
      "ts = [ start ]\n",
      "while ts[-1] < stop:\n",
      "    ts.append(ts[-1] + distrib(size = 1))\n",
      "timestamps['sin_irreg'] = np.array(ts)"
     ],
     "language": "python",
     "metadata": {},
     "outputs": [],
     "prompt_number": 6
    },
    {
     "cell_type": "code",
     "collapsed": false,
     "input": [
      "# signal parameter\n",
      "freq = 1. #Hz for sin wave\n",
      "time_scale = (2.*math.pi)/freq\n",
      "data['sin_irreg'] = np.sin(time_scale * timestamps['sin_irreg'])"
     ],
     "language": "python",
     "metadata": {},
     "outputs": [],
     "prompt_number": 7
    },
    {
     "cell_type": "code",
     "collapsed": false,
     "input": [
      "plt.plot(timestamps['sin_irreg'],data['sin_irreg']);"
     ],
     "language": "python",
     "metadata": {},
     "outputs": [
      {
       "metadata": {},
       "output_type": "display_data",
       "png": "[encoded data removed]",
       "text": [
        "<matplotlib.figure.Figure at 0x7f66da5fad10>"
       ]
      }
     ],
     "prompt_number": 8
    },
    {
     "cell_type": "code",
     "collapsed": false,
     "input": [
      "plt.plot(timestamps['sin_irreg'][:20],data['sin_irreg'][:20],'+');"
     ],
     "language": "python",
     "metadata": {},
     "outputs": [
      {
       "metadata": {},
       "output_type": "display_data",
       "png": "[encoded data removed]",
       "text": [
        "<matplotlib.figure.Figure at 0x7f66da6aa250>"
       ]
      }
     ],
     "prompt_number": 9
    }
   ],
   "metadata": {}
  }
 ]
}